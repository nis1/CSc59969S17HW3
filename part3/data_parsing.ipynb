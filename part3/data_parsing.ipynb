{
 "cells": [
  {
   "cell_type": "code",
   "execution_count": 151,
   "metadata": {
    "collapsed": false
   },
   "outputs": [],
   "source": [
    "import pandas as pd\n",
    "import numpy as np\n",
    "import json\n",
    "import math"
   ]
  },
  {
   "cell_type": "code",
   "execution_count": 152,
   "metadata": {
    "collapsed": false
   },
   "outputs": [],
   "source": [
    "arr0 = np.loadtxt('./static/Complete_TAVG_complete.txt', comments='%',dtype=float)[:,:3]\n",
    "arr1 = np.loadtxt('./static/Complete_TMIN_complete.txt', comments='%',dtype=float)[:,:3]\n",
    "arr2 = np.loadtxt('./static/Complete_TMAX_complete.txt', comments='%',dtype=float)[:,:3]"
   ]
  },
  {
   "cell_type": "code",
   "execution_count": 153,
   "metadata": {
    "collapsed": false
   },
   "outputs": [],
   "source": [
    "#TAVG\n",
    "\n",
    "lists = []\n",
    "dict = {'year':[], 'month':[] , 'variance':[]}\n",
    "for entry in arr0:\n",
    "    if (math.isnan(entry[2]) == False) and (entry[0] > 1752):\n",
    "        row = {'year':entry[0], 'month':entry[1] , 'variance':entry[2]}\n",
    "        lists.append(row)\n",
    "jsonStruct = {\"baseTemperature\": 8.66,\"monthlyVariance\":lists}\n",
    "\n",
    "with open('./static/tavg.json', 'w') as outfile:\n",
    "     json.dump(jsonStruct, outfile, sort_keys = True, indent = 4,\n",
    "               ensure_ascii = False)"
   ]
  },
  {
   "cell_type": "code",
   "execution_count": 154,
   "metadata": {
    "collapsed": true
   },
   "outputs": [],
   "source": [
    "#TMIN\n",
    "\n",
    "lists = []\n",
    "dict = {'year':[], 'month':[] , 'variance':[]}\n",
    "for entry in arr1:\n",
    "    if (math.isnan(entry[2]) == False) and (entry[0] > 1752):\n",
    "        row = {'year':entry[0], 'month':entry[1] , 'variance':entry[2]}\n",
    "        lists.append(row)\n",
    "jsonStruct = {\"baseTemperature\": 8.66,\"monthlyVariance\":lists}\n",
    "\n",
    "with open('./static/tmin.json', 'w') as outfile:\n",
    "     json.dump(jsonStruct, outfile, sort_keys = True, indent = 4,\n",
    "               ensure_ascii = False)"
   ]
  },
  {
   "cell_type": "code",
   "execution_count": 155,
   "metadata": {
    "collapsed": true
   },
   "outputs": [],
   "source": [
    "#TMAX\n",
    "\n",
    "lists = []\n",
    "dict = {'year':[], 'month':[] , 'variance':[]}\n",
    "for entry in arr2:\n",
    "    if (math.isnan(entry[2]) == False) and (entry[0] > 1752):\n",
    "        row = {'year':entry[0], 'month':entry[1] , 'variance':entry[2]}\n",
    "        lists.append(row)\n",
    "jsonStruct = {\"baseTemperature\": 8.66,\"monthlyVariance\":lists}\n",
    "\n",
    "with open('./static/tmax.json', 'w') as outfile:\n",
    "     json.dump(jsonStruct, outfile, sort_keys = True, indent = 4,\n",
    "               ensure_ascii = False)"
   ]
  },
  {
   "cell_type": "code",
   "execution_count": null,
   "metadata": {
    "collapsed": true
   },
   "outputs": [],
   "source": []
  }
 ],
 "metadata": {
  "kernelspec": {
   "display_name": "Python 3",
   "language": "python",
   "name": "python3"
  },
  "language_info": {
   "codemirror_mode": {
    "name": "ipython",
    "version": 3
   },
   "file_extension": ".py",
   "mimetype": "text/x-python",
   "name": "python",
   "nbconvert_exporter": "python",
   "pygments_lexer": "ipython3",
   "version": "3.5.2"
  }
 },
 "nbformat": 4,
 "nbformat_minor": 2
}
